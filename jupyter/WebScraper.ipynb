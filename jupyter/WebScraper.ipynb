{
 "cells": [
  {
   "cell_type": "code",
   "execution_count": 1,
   "metadata": {},
   "outputs": [],
   "source": [
    "import urllib3\n",
    "from bs4 import BeautifulSoup"
   ]
  },
  {
   "cell_type": "code",
   "execution_count": 133,
   "metadata": {},
   "outputs": [],
   "source": [
    "class Scraper:\n",
    "    \n",
    "    http = urllib3.PoolManager()\n",
    "    \n",
    "    def __init__(self):\n",
    "        pass\n",
    "        \n",
    "class BailiiScraper(Scraper):\n",
    "    \n",
    "    head = 'www.bailii.org'\n",
    "    ptc = 'http'\n",
    "    \n",
    "    def links(self):\n",
    "        links = []\n",
    "        mask = self.ptc + '://' + self.head + '/ew/cases/EWHC/Comm/{0}/'\n",
    "        \n",
    "        for year in range(1995, 1998):\n",
    "            page = self.http.request('GET', mask.format(str(year)))\n",
    "            if page.status != 200:\n",
    "                continue\n",
    "            soup = BeautifulSoup(page.data, 'html.parser')\n",
    "            for link in soup.find_all('a', title=True):\n",
    "                links.append(link.get('href'))\n",
    "            \n",
    "        return links\n",
    "            \n",
    "    \n",
    "    def docs(self):\n",
    "        docs = []\n",
    "        links = self.links()\n",
    "        mask = self.ptc + '://' + self.head + '{0}'\n",
    "        \n",
    "        for link in links:\n",
    "            page = self.http.request('GET', mask.format(link))\n",
    "            if page.status != 200:\n",
    "                continue\n",
    "            soup = BeautifulSoup(page.data, 'html.parser')\n",
    "            context = soup.find('p', text='B e f o r e :')\n",
    "            if context is None:\n",
    "                continue\n",
    "            docs.append(context.find_all_next(string=False))\n",
    "                \n",
    "        return docs"
   ]
  },
  {
   "cell_type": "code",
   "execution_count": 134,
   "metadata": {},
   "outputs": [],
   "source": [
    "bailii = BailiiScraper()\n",
    "docs = bailii.docs()"
   ]
  },
  {
   "cell_type": "code",
   "execution_count": 137,
   "metadata": {},
   "outputs": [
    {
     "data": {
      "text/plain": [
       "5"
      ]
     },
     "execution_count": 137,
     "metadata": {},
     "output_type": "execute_result"
    }
   ],
   "source": [
    "len(docs)"
   ]
  },
  {
   "cell_type": "code",
   "execution_count": null,
   "metadata": {},
   "outputs": [],
   "source": []
  }
 ],
 "metadata": {
  "kernelspec": {
   "display_name": "Python 3",
   "language": "python",
   "name": "python3"
  },
  "language_info": {
   "codemirror_mode": {
    "name": "ipython",
    "version": 3
   },
   "file_extension": ".py",
   "mimetype": "text/x-python",
   "name": "python",
   "nbconvert_exporter": "python",
   "pygments_lexer": "ipython3",
   "version": "3.6.4"
  }
 },
 "nbformat": 4,
 "nbformat_minor": 2
}
