{
 "cells": [
  {
   "cell_type": "code",
   "execution_count": 1,
   "metadata": {
    "collapsed": true
   },
   "outputs": [],
   "source": [
    "import urllib3\n",
    "import re\n",
    "from bs4 import BeautifulSoup"
   ]
  },
  {
   "cell_type": "code",
   "execution_count": 2,
   "metadata": {},
   "outputs": [],
   "source": [
    "class Scraper:\n",
    "    \n",
    "    http = urllib3.PoolManager()\n",
    "    \n",
    "    def __init__(self):\n",
    "        pass\n",
    "        \n",
    "class BailiiScraper(Scraper):\n",
    "    \n",
    "    head = 'www.bailii.org'\n",
    "    ptc = 'http'\n",
    "    \n",
    "    def links(self, years=(1995, 2019)):\n",
    "        links = []\n",
    "        mask = self.ptc + '://' + self.head + '/ew/cases/EWHC/Comm/{0}/'\n",
    "        \n",
    "        for year in range(years[0], years[1]):\n",
    "            page = self.http.request('GET', mask.format(str(year)))\n",
    "            if page.status != 200:\n",
    "                continue\n",
    "            soup = BeautifulSoup(page.data, 'html.parser')\n",
    "            for link in soup.find_all('a', title=True):\n",
    "                links.append({\"year\" : year, \"link\" : link.get('href')})\n",
    "            \n",
    "        return links\n",
    "            \n",
    "    \n",
    "    def docs(self, years=(1995, 2019)):\n",
    "        docs = []\n",
    "        links = self.links(years)\n",
    "        mask = self.ptc + '://' + self.head + '{0}'\n",
    "        \n",
    "        count = 1\n",
    "        for link in links:\n",
    "            page = self.http.request('GET', mask.format(link['link']))\n",
    "            if page.status != 200:\n",
    "                continue\n",
    "            soup = BeautifulSoup(page.data, 'html.parser')\n",
    "            header = soup.parties\n",
    "            #body = soup.findAll(attrs={\"name\": re.compile(\"para?\")})\n",
    "            body = soup.findAll('p')\n",
    "            if (header is None or header == []) or (body is None or body == []):\n",
    "                continue\n",
    "            \n",
    "            _body = self.convert_resultset_to_list(body)\n",
    "            _body = re.sub(r'\\n',' ', str(_body))\n",
    "            \n",
    "            header = re.sub(r'\\n',' | ', header.get_text())\n",
    "            docs.append({'name' : 'bailii_' + str(link['year']) + '_' + str(count), 'header' : header, 'body' : _body})\n",
    "            \n",
    "            count += 1\n",
    "                \n",
    "        return docs\n",
    "    \n",
    "    def write_to_file(self, docs, path_to_folder):\n",
    "        count = 1\n",
    "        for doc in docs:\n",
    "            filename = doc['name'] + '.txt'\n",
    "            file = open(path_to_folder + filename,\"w\")\n",
    "            file.write(doc['body'])\n",
    "            file.close()\n",
    "            count+=1\n",
    "    \n",
    "    def convert_resultset_to_list(self, resultset):\n",
    "        _list = ''\n",
    "        phrase_to_begin = u'Crown Copyright ©'\n",
    "        can_write = False\n",
    "        for _resultset in resultset:\n",
    "            _resultset = _resultset.find_all_next(string=True)\n",
    "            for paragraph in _resultset:\n",
    "                if paragraph == phrase_to_begin:\n",
    "                    can_write = True\n",
    "                    continue\n",
    "                if paragraph == 'BAILII:':\n",
    "                    return _list.encode('utf-8')\n",
    "                if (can_write):\n",
    "                    if paragraph == '\\n':\n",
    "                        continue\n",
    "                    _list += paragraph + ' '\n",
    "        return _list.encode('utf-8')\n"
   ]
  },
  {
   "cell_type": "code",
   "execution_count": 3,
   "metadata": {},
   "outputs": [],
   "source": [
    "bailii = BailiiScraper()\n",
    "docs = bailii.docs(years=(1995, 1999)) # Returns list with docs as dicts(name, header, body)\n",
    "bailii.write_to_file(docs, 'output/')"
   ]
  },
  {
   "cell_type": "code",
   "execution_count": null,
   "metadata": {},
   "outputs": [],
   "source": [
    "#print (docs[0]['body']) # TEST"
   ]
  }
 ],
 "metadata": {
  "kernelspec": {
   "display_name": "Python 2",
   "language": "python",
   "name": "python2"
  },
  "language_info": {
   "codemirror_mode": {
    "name": "ipython",
    "version": 2
   },
   "file_extension": ".py",
   "mimetype": "text/x-python",
   "name": "python",
   "nbconvert_exporter": "python",
   "pygments_lexer": "ipython2",
   "version": "2.7.14"
  }
 },
 "nbformat": 4,
 "nbformat_minor": 2
}
