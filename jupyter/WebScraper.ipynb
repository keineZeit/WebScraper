{
 "cells": [
  {
   "cell_type": "code",
   "execution_count": 36,
   "metadata": {},
   "outputs": [],
   "source": [
    "import urllib3\n",
    "import re\n",
    "from bs4 import BeautifulSoup"
   ]
  },
  {
   "cell_type": "code",
   "execution_count": 131,
   "metadata": {},
   "outputs": [],
   "source": [
    "class Scraper:\n",
    "    \n",
    "    http = urllib3.PoolManager()\n",
    "    \n",
    "    def __init__(self):\n",
    "        pass\n",
    "        \n",
    "class BailiiScraper(Scraper):\n",
    "    \n",
    "    head = 'www.bailii.org'\n",
    "    ptc = 'http'\n",
    "    \n",
    "    def links(self):\n",
    "        links = []\n",
    "        mask = self.ptc + '://' + self.head + '/ew/cases/EWHC/Comm/{0}/'\n",
    "        \n",
    "        for year in range(1995, 1996):\n",
    "            page = self.http.request('GET', mask.format(str(year)))\n",
    "            if page.status != 200:\n",
    "                continue\n",
    "            soup = BeautifulSoup(page.data, 'html.parser')\n",
    "            for link in soup.find_all('a', title=True):\n",
    "                links.append(link.get('href'))\n",
    "            \n",
    "        return links\n",
    "            \n",
    "    \n",
    "    def docs(self):\n",
    "        docs = []\n",
    "        links = self.links()\n",
    "        mask = self.ptc + '://' + self.head + '{0}'\n",
    "        \n",
    "        for link in links:\n",
    "            page = self.http.request('GET', mask.format(link))\n",
    "            if page.status != 200:\n",
    "                continue\n",
    "            soup = BeautifulSoup(page.data, 'html.parser')\n",
    "            header = soup.parties\n",
    "            body = soup.find(attrs={\"name\": \"para1\"})\n",
    "            if header is None or body is None:\n",
    "                continue\n",
    "            body = re.sub(r'\\n',' ', str(body.find_all_next(string=True)))\n",
    "            header = re.sub(r'\\n',' | ', header.get_text())\n",
    "            docs.append([header, body])\n",
    "                \n",
    "        return docs"
   ]
  },
  {
   "cell_type": "code",
   "execution_count": 132,
   "metadata": {},
   "outputs": [],
   "source": [
    "bailii = BailiiScraper()\n",
    "docs = bailii.docs()"
   ]
  },
  {
   "cell_type": "code",
   "execution_count": 134,
   "metadata": {},
   "outputs": [
    {
     "data": {
      "text/plain": [
       "' |  |   |  GRUPO TORRAS S.A. TORRAS HOSTENCH LONDON LIMITED | (Respondents) |  |  |   | - and - |  |  |  |   | SHEIK FARAD MOHAMMED AL SABAH | (1st Deft.) |  |  |   | RICHARD ROBINSON | (2nd Deft.) |  |  |   | FOUAD KHALED JAFFAR | (3rd Deft.) |  |  |   | WALID EDMOND MOUKARZEL | (4th Deft.) |  |  |   | FRANCISCO JAVIER DE LA ROSA MARTI | (5th Deft.) |  |  |   | MIGUEL SOLER SALA | (6th Deft.) |  |  |   | JORGE NUNEZ Y LASSO DE LA VEGA | (7th Deft.) |  |  |   | NARCISO MARIA DE MIR FAURA | (8th Deft.) |  |  |   | JUAN JOSE FOLCHI BONAFONTE | (9th Deft.) |  |  |   | PLINIO NICHOLAS COLL GUTIERREZ | (10th Deft.) |  |  |   | COLL & CO LIMITED | (11th Deft.) |  |  |   | JUAN PIQUE VIDAL | (12th Deft.) |  |  |   | MICHAEL CHARLES RUSSELL | (13th Deft.) |  |  |   | RUSSELL LIMEBEER (A firm) | (14th Deft.) |  |  |   | WARDBASE LIMITED | (15th Deft.) |  |  |   | OAKTHORN LIMITED | (16th Deft.) |  |  |   | WESTOW LIMITED | (17th Deft.) |  |  |   | ANSLOW LIMITED | (18th Deft.) |  |  |   | CROESUS INTERNATIONAL LIMITED | (19th Deft.) |  |  |   | WANTLEY DEVELOPMENTS LIMITED | (20th Deft.) |  |  |   | COGGIA 1 B.V. | (21st Deft.) |  |  |   | RIQUEL B.V. | (22nd Deft.) |  | '"
      ]
     },
     "execution_count": 134,
     "metadata": {},
     "output_type": "execute_result"
    }
   ],
   "source": [
    "docs[0][0]"
   ]
  },
  {
   "cell_type": "code",
   "execution_count": null,
   "metadata": {},
   "outputs": [],
   "source": []
  }
 ],
 "metadata": {
  "kernelspec": {
   "display_name": "Python 3",
   "language": "python",
   "name": "python3"
  },
  "language_info": {
   "codemirror_mode": {
    "name": "ipython",
    "version": 3
   },
   "file_extension": ".py",
   "mimetype": "text/x-python",
   "name": "python",
   "nbconvert_exporter": "python",
   "pygments_lexer": "ipython3",
   "version": "3.6.4"
  }
 },
 "nbformat": 4,
 "nbformat_minor": 2
}
