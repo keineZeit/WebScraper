{
 "cells": [
  {
   "cell_type": "code",
   "execution_count": 19,
   "metadata": {
    "collapsed": true
   },
   "outputs": [],
   "source": [
    "import urllib3\n",
    "from bs4 import BeautifulSoup"
   ]
  },
  {
   "cell_type": "code",
   "execution_count": 27,
   "metadata": {},
   "outputs": [],
   "source": [
    "class Scraper:\n",
    "    def __init__(self):\n",
    "        pass\n",
    "        \n",
    "class BailiiScraper(Scraper):\n",
    "    def docs(self):\n",
    "        docs = []\n",
    "        http = urllib3.PoolManager()\n",
    "        mask = 'http://www.bailii.org/ew/cases/EWHC/Comm/{0}/{1}.html'\n",
    "        \n",
    "        for y in range(1996, 1998):\n",
    "            print ('year ' + str(y))\n",
    "            for n in range(370, 400):\n",
    "                page = http.request('GET', mask.format(str(y), str(n)))\n",
    "                if page.status != 200:\n",
    "                    continue\n",
    "                soup = BeautifulSoup(page.data, 'html.parser')\n",
    "                context = soup.find('p', text='B e f o r e :')\n",
    "                if context is None:\n",
    "                    continue\n",
    "                docs.append(context.find_all_next(string=False))\n",
    "                \n",
    "        return docs"
   ]
  },
  {
   "cell_type": "code",
   "execution_count": 28,
   "metadata": {},
   "outputs": [
    {
     "name": "stdout",
     "output_type": "stream",
     "text": [
      "year 1996\n",
      "year 1997\n"
     ]
    }
   ],
   "source": [
    "bailii = BailiiScraper()\n",
    "docs = bailii.docs()"
   ]
  },
  {
   "cell_type": "code",
   "execution_count": 29,
   "metadata": {},
   "outputs": [
    {
     "data": {
      "text/plain": [
       "4"
      ]
     },
     "execution_count": 29,
     "metadata": {},
     "output_type": "execute_result"
    }
   ],
   "source": [
    "len(docs)"
   ]
  },
  {
   "cell_type": "code",
   "execution_count": null,
   "metadata": {
    "collapsed": true
   },
   "outputs": [],
   "source": []
  }
 ],
 "metadata": {
  "kernelspec": {
   "display_name": "Python 3",
   "language": "python",
   "name": "python3"
  },
  "language_info": {
   "codemirror_mode": {
    "name": "ipython",
    "version": 3
   },
   "file_extension": ".py",
   "mimetype": "text/x-python",
   "name": "python",
   "nbconvert_exporter": "python",
   "pygments_lexer": "ipython3",
   "version": "3.6.2"
  }
 },
 "nbformat": 4,
 "nbformat_minor": 2
}
